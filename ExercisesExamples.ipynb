{
  "nbformat": 4,
  "nbformat_minor": 0,
  "metadata": {
    "colab": {
      "provenance": [],
      "authorship_tag": "ABX9TyO19x0uS/hk9c6zyCASZ8TZ",
      "include_colab_link": true
    },
    "kernelspec": {
      "name": "python3",
      "display_name": "Python 3"
    },
    "language_info": {
      "name": "python"
    }
  },
  "cells": [
    {
      "cell_type": "markdown",
      "metadata": {
        "id": "view-in-github",
        "colab_type": "text"
      },
      "source": [
        "<a href=\"https://colab.research.google.com/github/Th3Mayar/exercisesPython/blob/main/ExercisesExamples.ipynb\" target=\"_parent\"><img src=\"https://colab.research.google.com/assets/colab-badge.svg\" alt=\"Open In Colab\"/></a>"
      ]
    },
    {
      "cell_type": "markdown",
      "source": [
        "**# Function to convert from Celsius to Fahrenheit**"
      ],
      "metadata": {
        "id": "xvnO_6vq92gX"
      }
    },
    {
      "cell_type": "code",
      "execution_count": 2,
      "metadata": {
        "id": "ja-Lhnhm9KQa"
      },
      "outputs": [],
      "source": [
        "def celsius_to_fahrenheit(celsius):\n",
        "    \"\"\"\n",
        "    Converts a temperature from Celsius to Fahrenheit.\n",
        "\n",
        "    Args:\n",
        "    celsius (float): Temperature in degrees Celsius.\n",
        "\n",
        "    Returns:\n",
        "    float: Temperature converted to degrees Fahrenheit.\n",
        "    \"\"\"\n",
        "    return (celsius * 9/5) + 32"
      ]
    },
    {
      "cell_type": "markdown",
      "source": [],
      "metadata": {
        "id": "iLKZEZD79-W1"
      }
    },
    {
      "cell_type": "markdown",
      "source": [
        "**# Function to convert from Fahrenheit to Celsius**"
      ],
      "metadata": {
        "id": "jw1Xr3Dj9_hN"
      }
    },
    {
      "cell_type": "code",
      "source": [
        "def fahrenheit_to_celsius(fahrenheit):\n",
        "    \"\"\"\n",
        "    Converts a temperature from Fahrenheit to Celsius.\n",
        "\n",
        "    Args:\n",
        "    fahrenheit (float): Temperature in degrees Fahrenheit.\n",
        "\n",
        "    Returns:\n",
        "    float: Temperature converted to degrees Celsius.\n",
        "    \"\"\"\n",
        "    return (fahrenheit - 32) * 5/9"
      ],
      "metadata": {
        "id": "1ISz2vJf99ip"
      },
      "execution_count": 3,
      "outputs": []
    },
    {
      "cell_type": "markdown",
      "source": [
        "**# Function to apply a hash to a temperature**"
      ],
      "metadata": {
        "id": "97PanzGq-jsU"
      }
    },
    {
      "cell_type": "code",
      "source": [
        "def apply_hash(temperature):\n",
        "    \"\"\"\n",
        "    Applies a hash function to a temperature value.\n",
        "\n",
        "    Args:\n",
        "    temperature (float): The temperature to be hashed.\n",
        "\n",
        "    Returns:\n",
        "    int: The hash value corresponding to the temperature.\n",
        "    \"\"\"\n",
        "    return hash(temperature)"
      ],
      "metadata": {
        "id": "hww3lWfj-nal"
      },
      "execution_count": 4,
      "outputs": []
    },
    {
      "cell_type": "markdown",
      "source": [
        "**# Example usage**"
      ],
      "metadata": {
        "id": "HV_lZGFt-s69"
      }
    },
    {
      "cell_type": "code",
      "source": [
        "celsius = 25\n",
        "fahrenheit = celsius_to_fahrenheit(celsius)\n",
        "temperature_hash = apply_hash(fahrenheit)\n",
        "\n",
        "print(f\"Temperature in Celsius: {celsius}°C\")\n",
        "print(f\"Temperature converted to Fahrenheit: {fahrenheit}°F\")\n",
        "print(f\"Hash of the converted temperature: {temperature_hash}\")"
      ],
      "metadata": {
        "colab": {
          "base_uri": "https://localhost:8080/"
        },
        "id": "HLTcjOb_-p2s",
        "outputId": "d26a392f-f433-42c2-c2ce-889bd4fec834"
      },
      "execution_count": 5,
      "outputs": [
        {
          "output_type": "stream",
          "name": "stdout",
          "text": [
            "Temperature in Celsius: 25°C\n",
            "Temperature converted to Fahrenheit: 77.0°F\n",
            "Hash of the converted temperature: 77\n"
          ]
        }
      ]
    },
    {
      "cell_type": "markdown",
      "source": [
        "**# Function to filter names and square the corresponding numbers**"
      ],
      "metadata": {
        "id": "-1vgBKhS-zBs"
      }
    },
    {
      "cell_type": "code",
      "source": [
        "def process_names_and_numbers(names, numbers):\n",
        "    \"\"\"\n",
        "    Filters names with more than 5 characters and squares\n",
        "    the corresponding numbers.\n",
        "\n",
        "    Args:\n",
        "    names (list): List of names (str).\n",
        "    numbers (list): List of numbers (int or float).\n",
        "\n",
        "    Returns:\n",
        "    tuple: A tuple containing two lists: the filtered names and the squared numbers.\n",
        "    \"\"\"\n",
        "    filtered_names = [name for name in names if len(name) > 5]\n",
        "    squared_numbers = [number ** 2 for name, number in zip(names, numbers) if len(name) > 5]\n",
        "\n",
        "    return filtered_names, squared_numbers"
      ],
      "metadata": {
        "id": "wEM65wHa-zX9"
      },
      "execution_count": 6,
      "outputs": []
    },
    {
      "cell_type": "markdown",
      "source": [
        "**# Example usage**"
      ],
      "metadata": {
        "id": "XE67FhtE-5ct"
      }
    },
    {
      "cell_type": "code",
      "source": [
        "names = [\"Ana\", \"Sebastian\", \"Luis\", \"Marcela\", \"Pedro\"]\n",
        "numbers = [3, 7, 2, 9, 5]\n",
        "\n",
        "filtered_names, squared_numbers = process_names_and_numbers(names, numbers)\n",
        "\n",
        "print(\"Filtered names:\", filtered_names)\n",
        "print(\"Corresponding squared numbers:\", squared_numbers)"
      ],
      "metadata": {
        "colab": {
          "base_uri": "https://localhost:8080/"
        },
        "id": "HNOSNFr8-4bN",
        "outputId": "07d1cd71-e64e-4c47-ecce-f0ae0f367bd8"
      },
      "execution_count": 7,
      "outputs": [
        {
          "output_type": "stream",
          "name": "stdout",
          "text": [
            "Filtered names: ['Sebastian', 'Marcela']\n",
            "Corresponding squared numbers: [49, 81]\n"
          ]
        }
      ]
    },
    {
      "cell_type": "markdown",
      "source": [
        "**Add Imports library for execute functions and add functionalities**"
      ],
      "metadata": {
        "id": "YKhVvTLa_Am0"
      }
    },
    {
      "cell_type": "code",
      "source": [
        "import re"
      ],
      "metadata": {
        "id": "Kewma0Ev_J_k"
      },
      "execution_count": 8,
      "outputs": []
    },
    {
      "cell_type": "markdown",
      "source": [
        "**# Function to validate passwords**"
      ],
      "metadata": {
        "id": "5Y-vWknH_OQk"
      }
    },
    {
      "cell_type": "code",
      "source": [
        "def validate_password(password):\n",
        "    \"\"\"\n",
        "    Validates whether a password meets security criteria.\n",
        "\n",
        "    Criteria:\n",
        "    - At least 8 characters long.\n",
        "    - At least one uppercase letter.\n",
        "    - At least one lowercase letter.\n",
        "    - At least one number.\n",
        "\n",
        "    Args:\n",
        "    password (str): The password to be validated.\n",
        "\n",
        "    Returns:\n",
        "    bool: True if the password is valid, False otherwise.\n",
        "    \"\"\"\n",
        "    # Minimum length of 8 characters\n",
        "    if len(password) < 8:\n",
        "        return False\n",
        "    # At least one uppercase letter\n",
        "    if not re.search(r'[A-Z]', password):\n",
        "        return False\n",
        "    # At least one lowercase letter\n",
        "    if not re.search(r'[a-z]', password):\n",
        "        return False\n",
        "    # At least one number\n",
        "    if not re.search(r'\\d', password):\n",
        "        return False\n",
        "\n",
        "    return True"
      ],
      "metadata": {
        "id": "2UqDv7nr_MDk"
      },
      "execution_count": 9,
      "outputs": []
    },
    {
      "cell_type": "markdown",
      "source": [
        "**# Example usage**"
      ],
      "metadata": {
        "id": "omW31hnw_R6N"
      }
    },
    {
      "cell_type": "code",
      "source": [
        "password = \"!passwordSecured$48?2003\"\n",
        "is_valid = validate_password(password)\n",
        "\n",
        "if is_valid:\n",
        "    print(f\"The password '{password}' is valid.\")\n",
        "else:\n",
        "    print(f\"The password '{password}' is not valid.\")"
      ],
      "metadata": {
        "colab": {
          "base_uri": "https://localhost:8080/"
        },
        "id": "nuIgZJp49sUd",
        "outputId": "bd599717-9d9e-467a-9916-31debe7453a7"
      },
      "execution_count": 11,
      "outputs": [
        {
          "output_type": "stream",
          "name": "stdout",
          "text": [
            "The password '!passwordSecured$48?2003' is valid.\n"
          ]
        }
      ]
    }
  ]
}